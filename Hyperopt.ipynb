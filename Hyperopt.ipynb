{
 "cells": [
  {
   "cell_type": "code",
   "execution_count": 2,
   "id": "c3030acb",
   "metadata": {},
   "outputs": [],
   "source": [
    "#%pip install hyperopt\n",
    "import numpy as np\n",
    "from hyperopt import fmin, tpe, hp\n"
   ]
  },
  {
   "cell_type": "code",
   "execution_count": 4,
   "id": "36779898",
   "metadata": {},
   "outputs": [
    {
     "data": {
      "text/plain": [
       "np.int64(4)"
      ]
     },
     "execution_count": 4,
     "metadata": {},
     "output_type": "execute_result"
    }
   ],
   "source": [
    "# define objective function\n",
    "\n",
    "def objective(x):\n",
    "    return np.square(x - 5) + 4\n",
    "\n",
    "objective(5)"
   ]
  },
  {
   "cell_type": "code",
   "execution_count": 5,
   "id": "5be0df9e",
   "metadata": {},
   "outputs": [
    {
     "data": {
      "text/plain": [
       "<hyperopt.pyll.base.Apply at 0x196b917d590>"
      ]
     },
     "execution_count": 5,
     "metadata": {},
     "output_type": "execute_result"
    }
   ],
   "source": [
    "# hyperparameter space\n",
    "\n",
    "space = hp.uniform('x',-100,100)\n",
    "space"
   ]
  },
  {
   "cell_type": "code",
   "execution_count": 10,
   "id": "4dcbe974",
   "metadata": {},
   "outputs": [
    {
     "name": "stdout",
     "output_type": "stream",
     "text": [
      "100%|██████████| 1000/1000 [00:02<00:00, 364.40trial/s, best loss: 4.000134232729887]\n"
     ]
    }
   ],
   "source": [
    "best = fmin(fn=objective,space=space,algo=tpe.suggest,max_evals=1000)"
   ]
  },
  {
   "cell_type": "code",
   "execution_count": 11,
   "id": "99e73784",
   "metadata": {},
   "outputs": [
    {
     "data": {
      "text/plain": [
       "{'x': np.float64(5.011585884941909)}"
      ]
     },
     "execution_count": 11,
     "metadata": {},
     "output_type": "execute_result"
    }
   ],
   "source": [
    "best"
   ]
  }
 ],
 "metadata": {
  "kernelspec": {
   "display_name": "Python 3",
   "language": "python",
   "name": "python3"
  },
  "language_info": {
   "codemirror_mode": {
    "name": "ipython",
    "version": 3
   },
   "file_extension": ".py",
   "mimetype": "text/x-python",
   "name": "python",
   "nbconvert_exporter": "python",
   "pygments_lexer": "ipython3",
   "version": "3.13.3"
  }
 },
 "nbformat": 4,
 "nbformat_minor": 5
}
